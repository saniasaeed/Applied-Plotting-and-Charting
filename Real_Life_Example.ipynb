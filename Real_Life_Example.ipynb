{
 "cells": [
  {
   "cell_type": "markdown",
   "metadata": {},
   "source": [
    "# Rainfall and Snowfall Analysis\n",
    "\n",
    "\n",
    "Before working on this assignment please read these instructions fully. In the submission area, you will notice that you can click the link to **Preview the Grading** for each step of the assignment. This is the criteria that will be used for peer grading. Please familiarize yourself with the criteria before beginning the assignment.\n",
    "\n",
    "This assignment requires that you to find **at least** two datasets on the web which are related, and that you visualize these datasets to answer a question with the broad topic of **economic activity or measures** (see below) for the region of **Lahore, Punjab, Pakistan**, or **Pakistan** more broadly.\n",
    "\n",
    "You can merge these datasets with data from different regions if you like! For instance, you might want to compare **Lahore, Punjab, Pakistan** to Ann Arbor, USA. In that case at least one source file must be about **Lahore, Punjab, Pakistan**.\n",
    "\n",
    "You are welcome to choose datasets at your discretion, but keep in mind **they will be shared with your peers**, so choose appropriate datasets. Sensitive, confidential, illicit, and proprietary materials are not good choices for datasets for this assignment. You are welcome to upload datasets of your own as well, and link to them using a third party repository such as github, bitbucket, pastebin, etc. Please be aware of the Coursera terms of service with respect to intellectual property.\n",
    "\n",
    "Also, you are welcome to preserve data in its original language, but for the purposes of grading you should provide english translations. You are welcome to provide multiple visuals in different languages if you would like!\n",
    "\n",
    "As this assignment is for the whole course, you must incorporate principles discussed in the first week, such as having as high data-ink ratio (Tufte) and aligning with Cairo’s principles of truth, beauty, function, and insight.\n",
    "\n",
    "Here are the assignment instructions:\n",
    "\n",
    " * State the region and the domain category that your data sets are about (e.g., **Lahore, Punjab, Pakistan** and **economic activity or measures**).\n",
    " * You must state a question about the domain category and region that you identified as being interesting.\n",
    " * You must provide at least two links to available datasets. These could be links to files such as CSV or Excel files, or links to websites which might have data in tabular form, such as Wikipedia pages.\n",
    " * You must upload an image which addresses the research question you stated. In addition to addressing the question, this visual should follow Cairo's principles of truthfulness, functionality, beauty, and insightfulness.\n",
    " * You must contribute a short (1-2 paragraph) written justification of how your visualization addresses your stated research question.\n",
    "\n",
    "What do we mean by **economic activity or measures**?  For this category you might look at the inputs or outputs to the given economy, or major changes in the economy compared to other regions.\n",
    "\n",
    "## Tips\n",
    "* Wikipedia is an excellent source of data, and I strongly encourage you to explore it for new data sources.\n",
    "* Many governments run open data initiatives at the city, region, and country levels, and these are wonderful resources for localized data sources.\n",
    "* Several international agencies, such as the [United Nations](http://data.un.org/), the [World Bank](http://data.worldbank.org/), the [Global Open Data Index](http://index.okfn.org/place/) are other great places to look for data.\n",
    "* This assignment requires you to convert and clean datafiles. Check out the discussion forums for tips on how to do this from various sources, and share your successes with your fellow students!\n",
    "\n",
    "## Example\n",
    "Looking for an example? Here's what our course assistant put together for the **Ann Arbor, MI, USA** area using **sports and athletics** as the topic. [Example Solution File](./readonly/Assignment4_example.pdf)"
   ]
  },
  {
   "cell_type": "code",
   "execution_count": 1,
   "metadata": {
    "collapsed": true
   },
   "outputs": [],
   "source": [
    "import pandas as pd\n",
    "import numpy as np\n",
    "import matplotlib.pyplot as plt\n",
    "import seaborn as sns\n",
    "%matplotlib notebook\n",
    "\n",
    "# Removes default white gridlines from the plot:\n",
    "#plt.rcParams[\"axes.grid\"] = False\n"
   ]
  },
  {
   "cell_type": "code",
   "execution_count": null,
   "metadata": {
    "collapsed": true
   },
   "outputs": [],
   "source": [
    "plt.style.use('seaborn-colorblind')"
   ]
  },
  {
   "cell_type": "code",
   "execution_count": null,
   "metadata": {
    "collapsed": true
   },
   "outputs": [],
   "source": [
    "#Read the files\n",
    "Snowfall = pd.read_csv('UNdata_Snowfall.csv')\n",
    "Temperature = pd.read_excel('Temp_1961_1990.xls')\n",
    "Rainfall = pd.read_excel('Rain_1961_1990.xls')\n"
   ]
  },
  {
   "cell_type": "code",
   "execution_count": null,
   "metadata": {
    "collapsed": true
   },
   "outputs": [],
   "source": [
    "Months = ['Jan', 'Feb', 'Mar', 'Apr', 'May', 'Jun', 'Jul', 'Aug', 'Sep', 'Oct', 'Nov', 'Dec']\n"
   ]
  },
  {
   "cell_type": "code",
   "execution_count": null,
   "metadata": {
    "collapsed": true
   },
   "outputs": [],
   "source": [
    "#get mean value of snowfall by months\n",
    "Jan = Snowfall['Jan'].mean()\n",
    "Feb = Snowfall['Feb'].mean()\n",
    "Mar = Snowfall['Mar'].mean()\n",
    "Apr = Snowfall['Apr'].mean()\n",
    "May = Snowfall['May'].mean()\n",
    "Jun = Snowfall['Jun'].mean()\n",
    "Jul = Snowfall['Jul'].mean()\n",
    "Aug = Snowfall['Aug'].mean()\n",
    "Sep = Snowfall['Sep'].mean()\n",
    "Oct = Snowfall['Oct'].mean()\n",
    "Nov = Snowfall['Nov'].mean()\n",
    "Dec = Snowfall['Dec'].mean()\n",
    "\n",
    "#add monthly snowfall data to Weather dataframe\n",
    "Weather = pd.DataFrame({'Snowfall': [Jan, Feb, Mar, Apr, May, Jun, Jul, Aug, Sep, Oct, Nov, Dec]})"
   ]
  },
  {
   "cell_type": "code",
   "execution_count": null,
   "metadata": {
    "collapsed": true
   },
   "outputs": [],
   "source": [
    "# get monthly variations in temp\n",
    "Monthly_Temp = Temperature.groupby(' Month').mean()['tas']\n",
    "Jan = Monthly_Temp.iloc[0]\n",
    "Feb = Monthly_Temp.iloc[1]\n",
    "Mar = Monthly_Temp.iloc[2]\n",
    "Apr = Monthly_Temp.iloc[3]\n",
    "May = Monthly_Temp.iloc[4]\n",
    "Jun = Monthly_Temp.iloc[5]\n",
    "Jul = Monthly_Temp.iloc[6]\n",
    "Aug = Monthly_Temp.iloc[7]\n",
    "Sep = Monthly_Temp.iloc[8]\n",
    "Oct = Monthly_Temp.iloc[9]\n",
    "Nov = Monthly_Temp.iloc[10]\n",
    "Dec = Monthly_Temp.iloc[11]\n",
    "\n",
    "#add monthly temp variations data to Weather dataframe\n",
    "Weather['Temperature'] = [Jan, Feb, Mar, Apr, May, Jun, Jul, Aug, Sep, Oct, Nov, Dec]\n"
   ]
  },
  {
   "cell_type": "code",
   "execution_count": null,
   "metadata": {
    "collapsed": true
   },
   "outputs": [],
   "source": [
    "# get monthly variations in rain\n",
    "Monthly_Rain = Rainfall.groupby(' Month').mean()['pr']\n",
    "Monthly_Rain.iloc[0]\n",
    "Jan = Monthly_Rain.iloc[0]\n",
    "Feb = Monthly_Rain.iloc[1]\n",
    "Mar = Monthly_Rain.iloc[2]\n",
    "Apr = Monthly_Rain.iloc[3]\n",
    "May = Monthly_Rain.iloc[4]\n",
    "Jun = Monthly_Rain.iloc[5]\n",
    "Jul = Monthly_Rain.iloc[6]\n",
    "Aug = Monthly_Rain.iloc[7]\n",
    "Sep = Monthly_Rain.iloc[8]\n",
    "Oct = Monthly_Rain.iloc[9]\n",
    "Nov = Monthly_Rain.iloc[10]\n",
    "Dec = Monthly_Rain.iloc[11]\n",
    "\n",
    "#add monthly rainfall variations data to Weather dataframe\n",
    "Weather['Rainfall'] = [Jan, Feb, Mar, Apr, May, Jun, Jul, Aug, Sep, Oct, Nov, Dec]\n"
   ]
  },
  {
   "cell_type": "code",
   "execution_count": null,
   "metadata": {
    "collapsed": true
   },
   "outputs": [],
   "source": [
    "#normalize snowfall metrics\n",
    "Weather['Snowfall'] = Weather['Snowfall']/1000\n",
    "#set index\n",
    "Weather.index = Months\n"
   ]
  },
  {
   "cell_type": "code",
   "execution_count": null,
   "metadata": {
    "collapsed": true
   },
   "outputs": [],
   "source": [
    "#converting df to list to plot\n",
    "x = Weather.index.tolist()\n",
    "y1 = Weather['Snowfall'].tolist()\n",
    "y2 = Weather['Temperature'].tolist()\n",
    "y3 = Weather['Rainfall'].tolist()\n",
    "\n",
    "plt.plot(x, y1, '-s', label = \"Snowfall (in 0.1*m)\")\n",
    "plt.plot(x, y2, '-*', label = \"Temperature (in $\\,^{\\circ}\\mathrm{C}$)\")\n",
    "plt.plot(x, y3, '-o', label = \"Rainfall (in 0.1*cm)\")\n",
    "\n",
    "plt.title('Average Temperature, Snowfall and Rainfall in United States(1961-1990)')\n",
    " \n",
    "plt.legend(frameon=False)\n",
    "[plt.gca().spines[loc].set_visible(False) for loc in ['top', 'right']]\n",
    "\n",
    "plt.show()\n"
   ]
  }
 ],
 "metadata": {
  "kernelspec": {
   "display_name": "Python 3",
   "language": "python",
   "name": "python3"
  },
  "language_info": {
   "codemirror_mode": {
    "name": "ipython",
    "version": 3
   },
   "file_extension": ".py",
   "mimetype": "text/x-python",
   "name": "python",
   "nbconvert_exporter": "python",
   "pygments_lexer": "ipython3",
   "version": "3.6.2"
  }
 },
 "nbformat": 4,
 "nbformat_minor": 1
}
